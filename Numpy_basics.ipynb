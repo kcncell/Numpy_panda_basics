{
 "cells": [
  {
   "cell_type": "code",
   "execution_count": 1,
   "id": "bc90da4b",
   "metadata": {},
   "outputs": [],
   "source": [
    "##you can use this as a mini guide to learn or recap the absolute basics of numpy"
   ]
  },
  {
   "cell_type": "markdown",
   "id": "de151b98",
   "metadata": {},
   "source": [
    "# Array and its shape"
   ]
  },
  {
   "cell_type": "code",
   "execution_count": 4,
   "id": "0649a33f",
   "metadata": {},
   "outputs": [
    {
     "data": {
      "text/plain": [
       "array([1, 2, 3, 4, 5, 6, 7, 8])"
      ]
     },
     "execution_count": 4,
     "metadata": {},
     "output_type": "execute_result"
    }
   ],
   "source": [
    "#create an 1D array\n",
    "import numpy as np\n",
    "a = np.array([1, 2, 3, 4, 5, 6, 7, 8]) \n",
    "a"
   ]
  },
  {
   "cell_type": "code",
   "execution_count": 5,
   "id": "01e3d294",
   "metadata": {},
   "outputs": [
    {
     "data": {
      "text/plain": [
       "array([[1, 2, 3, 4],\n",
       "       [5, 6, 7, 8]])"
      ]
     },
     "execution_count": 5,
     "metadata": {},
     "output_type": "execute_result"
    }
   ],
   "source": [
    "#you can create a 2D array by wrapping around an extra [] bracket.\n",
    "b = np.array([[1,2,3,4],[5,6,7,8]])\n",
    "b"
   ]
  },
  {
   "cell_type": "code",
   "execution_count": 6,
   "id": "87ad17fd",
   "metadata": {},
   "outputs": [
    {
     "name": "stdout",
     "output_type": "stream",
     "text": [
      "(8,)\n",
      "(2, 4)\n"
     ]
    }
   ],
   "source": [
    "#we always need to find out the shape of an array, shape provides dimension of the array\n",
    "print(a.shape)  \n",
    "print(b.shape)"
   ]
  },
  {
   "cell_type": "code",
   "execution_count": 8,
   "id": "0d1eb46c",
   "metadata": {},
   "outputs": [
    {
     "name": "stdout",
     "output_type": "stream",
     "text": [
      "[[7 5]\n",
      " [4 4]\n",
      " [4 1]\n",
      " [7 3]]\n",
      "[[12 10 16]\n",
      " [11 18 14]\n",
      " [17 17 16]\n",
      " [18 12 15]]\n"
     ]
    }
   ],
   "source": [
    "#let's create two random arrays of the following shape(2,4) and (4,2)\n",
    "\n",
    "c = np.random.randint(0,9, size=(4,2))     # this will create a (4,2) array that contains integers between 0 to 9\n",
    "d = np.random.randint(10,19, size=(4,3))   # this will create a (4,3) array that contains integers between 10 to 19\n",
    "print(c)\n",
    "print(d)"
   ]
  },
  {
   "cell_type": "code",
   "execution_count": 9,
   "id": "70fcfb30",
   "metadata": {},
   "outputs": [
    {
     "data": {
      "text/plain": [
       "array([[ 7,  5, 12, 10, 16],\n",
       "       [ 4,  4, 11, 18, 14],\n",
       "       [ 4,  1, 17, 17, 16],\n",
       "       [ 7,  3, 18, 12, 15]])"
      ]
     },
     "execution_count": 9,
     "metadata": {},
     "output_type": "execute_result"
    }
   ],
   "source": [
    "#you can stack both the arrays horizontally, as long as the number of the 1st dinesion(number of rows) matches, which is true in this case.\n",
    "\n",
    "e = np.hstack((c,d))   # the new array will have the shape of (4,5)\n",
    "e"
   ]
  },
  {
   "cell_type": "code",
   "execution_count": 10,
   "id": "45ea2ad0",
   "metadata": {},
   "outputs": [
    {
     "data": {
      "text/plain": [
       "array([[20, 22, 21],\n",
       "       [28, 22, 24]])"
      ]
     },
     "execution_count": 10,
     "metadata": {},
     "output_type": "execute_result"
    }
   ],
   "source": [
    "#you can stack two arrays vertically, as long as the second dimension(number of columns) matches, which is not true in case of c and d.\n",
    "#we can not stack vertically c and d, because the number of columns do not match.\n",
    "\n",
    "#let's create a new array with a shape of (2,3)\n",
    "f = np.random.randint(20,29,size=(2,3))\n",
    "f"
   ]
  },
  {
   "cell_type": "code",
   "execution_count": 13,
   "id": "bdf64466",
   "metadata": {},
   "outputs": [
    {
     "data": {
      "text/plain": [
       "array([[12, 10, 16],\n",
       "       [11, 18, 14],\n",
       "       [17, 17, 16],\n",
       "       [18, 12, 15],\n",
       "       [20, 22, 21],\n",
       "       [28, 22, 24]])"
      ]
     },
     "execution_count": 13,
     "metadata": {},
     "output_type": "execute_result"
    }
   ],
   "source": [
    "#we can stack d and f because the number of columns(the second dimension) matches.\n",
    "g = np.vstack((d,f))\n",
    "g\n",
    "\n",
    "#we can also split an arrays horizontally or vertically by hsplit/vsplit syntax."
   ]
  },
  {
   "cell_type": "markdown",
   "id": "06764e4c",
   "metadata": {},
   "source": [
    "# Manipulating arrays (reshape)"
   ]
  },
  {
   "cell_type": "code",
   "execution_count": 16,
   "id": "802b14e1",
   "metadata": {},
   "outputs": [
    {
     "name": "stdout",
     "output_type": "stream",
     "text": [
      "(18,)\n"
     ]
    },
    {
     "data": {
      "text/plain": [
       "array([12, 10, 16, 11, 18, 14, 17, 17, 16, 18, 12, 15, 20, 22, 21, 28, 22,\n",
       "       24])"
      ]
     },
     "execution_count": 16,
     "metadata": {},
     "output_type": "execute_result"
    }
   ],
   "source": [
    "#reshaping an array/matrix is an important aspects of deeplearning,\n",
    "# let's start with flattening an array g, g was previously (6,3), after flattening it will be an 1D array(18,)\n",
    "#h.flatten() can also be used as a syntax for this purpose\n",
    "\n",
    "h = np.ravel(g)\n",
    "print(h.shape)\n",
    "h"
   ]
  },
  {
   "cell_type": "code",
   "execution_count": 17,
   "id": "d1782320",
   "metadata": {},
   "outputs": [
    {
     "data": {
      "text/plain": [
       "array([[12, 10, 16, 11, 18, 14, 17, 17, 16],\n",
       "       [18, 12, 15, 20, 22, 21, 28, 22, 24]])"
      ]
     },
     "execution_count": 17,
     "metadata": {},
     "output_type": "execute_result"
    }
   ],
   "source": [
    "#we can also reshape as array, as long as the dimensions are compatable, means all the elements must be utilzed in the array.\n",
    "#a (10,10) array can be reshaped to (2,50) or (4,25), (5,20) or....so on.\n",
    "# let's reshape the array g or h into a (2,9) shape.\n",
    "\n",
    "i = g.reshape(2,9)\n",
    "i"
   ]
  },
  {
   "cell_type": "code",
   "execution_count": 19,
   "id": "ecab5c55",
   "metadata": {},
   "outputs": [
    {
     "data": {
      "text/plain": [
       "array([[12, 10, 16, 11, 18, 14, 17, 17, 16],\n",
       "       [18, 12, 15, 20, 22, 21, 28, 22, 24]])"
      ]
     },
     "execution_count": 19,
     "metadata": {},
     "output_type": "execute_result"
    }
   ],
   "source": [
    "#you can provide one of the dimension and ask the computer to figure out the second dimension by itself.\n",
    "# by providing -1, we are asking the computer to figure the other dimension automatically.\n",
    "j = g.reshape(2,-1)\n",
    "j"
   ]
  },
  {
   "cell_type": "code",
   "execution_count": 20,
   "id": "95c66d25",
   "metadata": {},
   "outputs": [
    {
     "name": "stdout",
     "output_type": "stream",
     "text": [
      "[[[ 7 16]\n",
      "  [24  7]]\n",
      "\n",
      " [[17  7]\n",
      "  [28  5]]\n",
      "\n",
      " [[ 2 12]\n",
      "  [ 8  3]]]\n"
     ]
    }
   ],
   "source": [
    "#Let's create a random 3d array of the following shape (3,2,2) and the convert it into a (3,4) array.\n",
    "k = np.random.randint(1,30, size=(3,2,2))\n",
    "print(k)\n"
   ]
  },
  {
   "cell_type": "code",
   "execution_count": 21,
   "id": "7d179df9",
   "metadata": {},
   "outputs": [
    {
     "name": "stdout",
     "output_type": "stream",
     "text": [
      "[[ 7 16 24  7]\n",
      " [17  7 28  5]\n",
      " [ 2 12  8  3]]\n"
     ]
    }
   ],
   "source": [
    "l = k.reshape(3,4)\n",
    "print(l)"
   ]
  },
  {
   "cell_type": "markdown",
   "id": "eb13113c",
   "metadata": {},
   "source": [
    "# Indexing an array and accessing an index from an array"
   ]
  },
  {
   "cell_type": "code",
   "execution_count": 22,
   "id": "9ffc6f2f",
   "metadata": {},
   "outputs": [
    {
     "name": "stdout",
     "output_type": "stream",
     "text": [
      "8\n"
     ]
    }
   ],
   "source": [
    "#it is a bit easier to visualize an index in a 2d array.Let's look at the array 'l' above as an example\n",
    "#17 is at the 2nd row and 1st column of l. So its index should be [1,0]\n",
    "#indexing begins at 0 and goes on from there. 0,1,2.. and so on\n",
    "#for the array l, could you find the number for the following index:[2,2], the answer is 8, 3rd row and 3rd column\n",
    "#lets see couple of more example with syntax.\n",
    "\n",
    "print(l[2,2])\n"
   ]
  },
  {
   "cell_type": "code",
   "execution_count": 23,
   "id": "bc8e4ca7",
   "metadata": {},
   "outputs": [
    {
     "name": "stdout",
     "output_type": "stream",
     "text": [
      "28\n"
     ]
    }
   ],
   "source": [
    "#take a look at the array 'k', and find the element that is present at (1,1,0), the answer would be 28\n",
    "#you analyze one dimension at a time, remove the bracket one at a time from the outside.\n",
    "print(k[1,1,0])"
   ]
  },
  {
   "cell_type": "code",
   "execution_count": 24,
   "id": "a5762d96",
   "metadata": {},
   "outputs": [
    {
     "data": {
      "text/plain": [
       "array([17,  7, 28,  5])"
      ]
     },
     "execution_count": 24,
     "metadata": {},
     "output_type": "execute_result"
    }
   ],
   "source": [
    "#you can create a new array from a given rows/columns\n",
    "\n",
    "m = l[1,:]  #this means you are accessing 2nd row and all the numbers present in all the columns from the second row\n",
    "m"
   ]
  },
  {
   "cell_type": "code",
   "execution_count": 25,
   "id": "e393fd5e",
   "metadata": {},
   "outputs": [
    {
     "data": {
      "text/plain": [
       "array([7, 5, 3])"
      ]
     },
     "execution_count": 25,
     "metadata": {},
     "output_type": "execute_result"
    }
   ],
   "source": [
    "n = l[:,3]  #this means you are accesing all the numbers from all the rows present in the 4th column\n",
    "n"
   ]
  },
  {
   "cell_type": "code",
   "execution_count": 27,
   "id": "9e6d8d3f",
   "metadata": {},
   "outputs": [
    {
     "data": {
      "text/plain": [
       "array([[53, 10, 17, 81, 23],\n",
       "       [52, 13, 93, 59, 73],\n",
       "       [52, 46, 73, 21, 96],\n",
       "       [82, 52, 47, 34, 94],\n",
       "       [94, 84, 84, 40, 17],\n",
       "       [15, 28, 68, 41, 44],\n",
       "       [68, 57, 43, 41, 96],\n",
       "       [78, 19, 91, 47, 98],\n",
       "       [47, 22, 49, 82, 51],\n",
       "       [13, 68, 92, 58, 41]])"
      ]
     },
     "execution_count": 27,
     "metadata": {},
     "output_type": "execute_result"
    }
   ],
   "source": [
    "#lets create an array of shape [10,5] and access all the elements of the first three row\n",
    "\n",
    "o = np.random.randint(10,99, size=(10,5))\n",
    "o"
   ]
  },
  {
   "cell_type": "code",
   "execution_count": 28,
   "id": "f26f91fb",
   "metadata": {},
   "outputs": [
    {
     "name": "stdout",
     "output_type": "stream",
     "text": [
      "[[53 10 17 81 23]\n",
      " [52 13 93 59 73]\n",
      " [52 46 73 21 96]]\n"
     ]
    }
   ],
   "source": [
    "#first three row can be accessed by the following\n",
    "print(o[:3])\n",
    "\n",
    "#this is a handy tool to quickly glance at your large scale data to check if everything is working the way it is supposed to.\n"
   ]
  },
  {
   "cell_type": "markdown",
   "id": "89904c2f",
   "metadata": {},
   "source": [
    "# Math operation with arrays"
   ]
  },
  {
   "cell_type": "code",
   "execution_count": 31,
   "id": "23711e54",
   "metadata": {},
   "outputs": [
    {
     "name": "stdout",
     "output_type": "stream",
     "text": [
      "[[36 40 26]\n",
      " [45 45 49]]\n",
      "[[1. 1. 1.]\n",
      " [1. 1. 1.]]\n",
      "[[37. 41. 27.]\n",
      " [46. 46. 50.]]\n"
     ]
    }
   ],
   "source": [
    "#regular math can be done as long as the shape of the arrays match\n",
    "p = np.random.randint(10,50, size=(2,3))\n",
    "q = np.ones((2,3))\n",
    "print(p)\n",
    "print(q)\n",
    "#both of the arrays/matrices have the same shape[2,3]. which means we can do any math operations along the same indices.\n",
    "r= p + q\n",
    "print(r)"
   ]
  },
  {
   "cell_type": "code",
   "execution_count": 32,
   "id": "0da5945d",
   "metadata": {},
   "outputs": [
    {
     "name": "stdout",
     "output_type": "stream",
     "text": [
      "[[36. 40. 26.]\n",
      " [45. 45. 49.]]\n"
     ]
    }
   ],
   "source": [
    "s= p*q\n",
    "print(s)"
   ]
  },
  {
   "cell_type": "code",
   "execution_count": 34,
   "id": "85742287",
   "metadata": {},
   "outputs": [
    {
     "name": "stdout",
     "output_type": "stream",
     "text": [
      "(2, 5)\n"
     ]
    },
    {
     "data": {
      "text/plain": [
       "array([[42, 47, 35, 48, 27],\n",
       "       [57, 65, 39, 70, 33]])"
      ]
     },
     "execution_count": 34,
     "metadata": {},
     "output_type": "execute_result"
    }
   ],
   "source": [
    "#matrix multiplication can be done as long as the number of columns matches with the number of rows of the next array.\n",
    "#matrix multiplication between t(2,3) and u(3,5) will yield a (2,5) matrix, lets take a look\n",
    "t = np.random.randint(0,9, size=(2,3))\n",
    "u = np.random.randint(0,9, size=(3,5))\n",
    "\n",
    "v = np.matmul(t,u)\n",
    "print(v.shape)\n",
    "v"
   ]
  },
  {
   "cell_type": "code",
   "execution_count": null,
   "id": "4ce41ee5",
   "metadata": {},
   "outputs": [],
   "source": []
  }
 ],
 "metadata": {
  "kernelspec": {
   "display_name": "Python 3 (ipykernel)",
   "language": "python",
   "name": "python3"
  },
  "language_info": {
   "codemirror_mode": {
    "name": "ipython",
    "version": 3
   },
   "file_extension": ".py",
   "mimetype": "text/x-python",
   "name": "python",
   "nbconvert_exporter": "python",
   "pygments_lexer": "ipython3",
   "version": "3.7.11"
  }
 },
 "nbformat": 4,
 "nbformat_minor": 5
}
